{
 "cells": [
  {
   "cell_type": "markdown",
   "metadata": {},
   "source": [
    "### Tasks - project 4\n",
    "\n",
    "Identifying regulatory interactions\n",
    "Single cell RNA sequencing data allows the measurement of all genes in many cells at the same time. Genes are often co-regulated, or regulate each other. Correlation, anti-correlation or mutual information between pairs of genes can hint regulatory interactions, and help in reconstructing regulatory networks.\n",
    "\n",
    "*\tBackground single cell RNA sequencing\n",
    "*\tData – any single cell RNA-sequencing data.\n",
    "*\tFilter out genes that are not expressed\n",
    "*\tReplace values lower than one by one. log2 transform the data\n",
    "*\tIdentify pairs of genes that are significantly correlated (alternatively, anti-correlated or have mutual information). Take into account the problem of multiple comparisons\n",
    "*\tTest if those gene pairs are also correlated in the other dataset. \n",
    "*\tFor at least one correlated pair of genes, see if you can find research about interaction or functional relationships between those genes. \n"
   ]
  },
  {
   "cell_type": "markdown",
   "metadata": {},
   "source": [
    "# The Libraries"
   ]
  },
  {
   "cell_type": "code",
   "execution_count": 20,
   "metadata": {},
   "outputs": [],
   "source": [
    "from sys import getsizeof\n",
    "import numpy as np\n",
    "import pandas as pd\n",
    "from tqdm import tqdm\n",
    "from sklearn.metrics import mutual_info_score\n",
    "from scipy.stats.stats import pearsonr   \n",
    "import matplotlib.pyplot as plt\n",
    "%matplotlib inline\n",
    "\n",
    "\n"
   ]
  },
  {
   "cell_type": "markdown",
   "metadata": {},
   "source": [
    "# Functions"
   ]
  },
  {
   "cell_type": "code",
   "execution_count": 49,
   "metadata": {},
   "outputs": [],
   "source": [
    "def calc_MI(x, y, bins=12):\n",
    "    c_xy = np.histogram2d(x, y, bins)[0]\n",
    "    mi = mutual_info_score(None, None, contingency=c_xy)\n",
    "    return mi\n",
    "\n",
    "def pre_log2(df):\n",
    "    for gene in df:\n",
    "        for ind, val in df[gene].iteritems():\n",
    "            if val <= 1:\n",
    "                df.set_value(index=ind, col=gene, value=0)\n",
    "            elif val > 1:\n",
    "                df.set_value(index=ind, col=gene, value=np.log2(val))\n",
    "    return df\n",
    "\n",
    "def remove_zero_genes(mode, trsh=40):\n",
    "    cnt = 0\n",
    "    zeros = []\n",
    "    for col in tqdm(df):\n",
    "        if mode == 'zero':\n",
    "            if (df[col].values < 1).all():\n",
    "                cnt += 1\n",
    "                zeros.append(col)            \n",
    "        elif mode == 'sparse':\n",
    "            if np.sum((df[col].values > 1)) < 40:        \n",
    "                cnt += 1\n",
    "                zeros.append(col)\n",
    "    print '# removed columns = ', cnt\n",
    "    df.drop(zeros, axis=1, inplace=True)\n",
    "    return df"
   ]
  },
  {
   "cell_type": "code",
   "execution_count": 6,
   "metadata": {},
   "outputs": [
    {
     "data": {
      "text/plain": [
       "2.302585092994045"
      ]
     },
     "execution_count": 6,
     "metadata": {},
     "output_type": "execute_result"
    }
   ],
   "source": [
    "x, y = range(1000), range(1000)\n",
    "\n",
    "calc_MI(x, y, 10)"
   ]
  },
  {
   "cell_type": "code",
   "execution_count": 7,
   "metadata": {},
   "outputs": [
    {
     "name": "stdout",
     "output_type": "stream",
     "text": [
      "GSE81383_data_melanoma_scRNAseq_BT_Mel.txt\r\n",
      "GSE82187_cast_all_forGEO.csv\r\n",
      "GSE83533_AML_130_Rel_rpkm.txt\r\n",
      "\u001b[34munused\u001b[m\u001b[m/\r\n"
     ]
    }
   ],
   "source": [
    "% ls data/"
   ]
  },
  {
   "cell_type": "code",
   "execution_count": 267,
   "metadata": {},
   "outputs": [
    {
     "name": "stdout",
     "output_type": "stream",
     "text": [
      "9.1M\tdata/GSE83533_AML_130_Rel_rpkm.txt\r\n"
     ]
    }
   ],
   "source": [
    "!du -h data/GSE83533_AML_130_Rel_rpkm.txt"
   ]
  },
  {
   "cell_type": "markdown",
   "metadata": {},
   "source": [
    "# Reading the data"
   ]
  },
  {
   "cell_type": "code",
   "execution_count": 86,
   "metadata": {
    "collapsed": true
   },
   "outputs": [],
   "source": [
    "path = '/Users/mdymshits/comp_bio/data/GSE83533_AML_130_Rel_rpkm.txt'\n",
    "df = pd.read_csv(path, delimiter='\\t')"
   ]
  },
  {
   "cell_type": "markdown",
   "metadata": {},
   "source": [
    "## Small preprocessing:\n",
    "### like transpose \n",
    "### removing some headers\n",
    "### issue with duplicate genes"
   ]
  },
  {
   "cell_type": "code",
   "execution_count": 87,
   "metadata": {},
   "outputs": [
    {
     "data": {
      "text/html": [
       "<div>\n",
       "<style>\n",
       "    .dataframe thead tr:only-child th {\n",
       "        text-align: right;\n",
       "    }\n",
       "\n",
       "    .dataframe thead th {\n",
       "        text-align: left;\n",
       "    }\n",
       "\n",
       "    .dataframe tbody tr th {\n",
       "        vertical-align: top;\n",
       "    }\n",
       "</style>\n",
       "<table border=\"1\" class=\"dataframe\">\n",
       "  <thead>\n",
       "    <tr style=\"text-align: right;\">\n",
       "      <th></th>\n",
       "      <th>TAF1L_0</th>\n",
       "      <th>RNU6-69_1</th>\n",
       "      <th>ROCK1_2</th>\n",
       "      <th>SNORD115-42_3</th>\n",
       "      <th>OR8B2_4</th>\n",
       "      <th>LYN_5</th>\n",
       "      <th>SNORD115-43_6</th>\n",
       "      <th>OR8B3_7</th>\n",
       "      <th>OR2AT4_8</th>\n",
       "      <th>KCTD14_9</th>\n",
       "    </tr>\n",
       "  </thead>\n",
       "  <tbody>\n",
       "    <tr>\n",
       "      <th>0</th>\n",
       "      <td>0</td>\n",
       "      <td>0</td>\n",
       "      <td>40.0059</td>\n",
       "      <td>0</td>\n",
       "      <td>0</td>\n",
       "      <td>4.95385</td>\n",
       "      <td>0</td>\n",
       "      <td>0</td>\n",
       "      <td>0</td>\n",
       "      <td>0</td>\n",
       "    </tr>\n",
       "    <tr>\n",
       "      <th>1</th>\n",
       "      <td>0</td>\n",
       "      <td>0</td>\n",
       "      <td>0</td>\n",
       "      <td>0</td>\n",
       "      <td>0</td>\n",
       "      <td>0</td>\n",
       "      <td>0</td>\n",
       "      <td>0</td>\n",
       "      <td>0</td>\n",
       "      <td>0</td>\n",
       "    </tr>\n",
       "    <tr>\n",
       "      <th>2</th>\n",
       "      <td>0</td>\n",
       "      <td>0</td>\n",
       "      <td>70.5803</td>\n",
       "      <td>0</td>\n",
       "      <td>0</td>\n",
       "      <td>2.86212</td>\n",
       "      <td>0</td>\n",
       "      <td>0</td>\n",
       "      <td>0</td>\n",
       "      <td>0</td>\n",
       "    </tr>\n",
       "    <tr>\n",
       "      <th>3</th>\n",
       "      <td>0</td>\n",
       "      <td>0</td>\n",
       "      <td>24.1233</td>\n",
       "      <td>0</td>\n",
       "      <td>0</td>\n",
       "      <td>144.22</td>\n",
       "      <td>0</td>\n",
       "      <td>0</td>\n",
       "      <td>0</td>\n",
       "      <td>0</td>\n",
       "    </tr>\n",
       "    <tr>\n",
       "      <th>4</th>\n",
       "      <td>0</td>\n",
       "      <td>0</td>\n",
       "      <td>2.9105</td>\n",
       "      <td>0</td>\n",
       "      <td>0</td>\n",
       "      <td>0.665994</td>\n",
       "      <td>0</td>\n",
       "      <td>0</td>\n",
       "      <td>0</td>\n",
       "      <td>0</td>\n",
       "    </tr>\n",
       "    <tr>\n",
       "      <th>5</th>\n",
       "      <td>0</td>\n",
       "      <td>0</td>\n",
       "      <td>0.0638631</td>\n",
       "      <td>0</td>\n",
       "      <td>0</td>\n",
       "      <td>0</td>\n",
       "      <td>0</td>\n",
       "      <td>0</td>\n",
       "      <td>0</td>\n",
       "      <td>0</td>\n",
       "    </tr>\n",
       "    <tr>\n",
       "      <th>6</th>\n",
       "      <td>0</td>\n",
       "      <td>0</td>\n",
       "      <td>29.135</td>\n",
       "      <td>0</td>\n",
       "      <td>0</td>\n",
       "      <td>0</td>\n",
       "      <td>0</td>\n",
       "      <td>0</td>\n",
       "      <td>0</td>\n",
       "      <td>0</td>\n",
       "    </tr>\n",
       "    <tr>\n",
       "      <th>7</th>\n",
       "      <td>0</td>\n",
       "      <td>0</td>\n",
       "      <td>80.7414</td>\n",
       "      <td>0</td>\n",
       "      <td>0</td>\n",
       "      <td>0</td>\n",
       "      <td>0</td>\n",
       "      <td>0</td>\n",
       "      <td>0</td>\n",
       "      <td>0</td>\n",
       "    </tr>\n",
       "    <tr>\n",
       "      <th>8</th>\n",
       "      <td>0</td>\n",
       "      <td>0</td>\n",
       "      <td>22.4341</td>\n",
       "      <td>0</td>\n",
       "      <td>0</td>\n",
       "      <td>1.01223</td>\n",
       "      <td>0</td>\n",
       "      <td>0</td>\n",
       "      <td>0</td>\n",
       "      <td>0</td>\n",
       "    </tr>\n",
       "    <tr>\n",
       "      <th>9</th>\n",
       "      <td>0</td>\n",
       "      <td>0</td>\n",
       "      <td>11.2208</td>\n",
       "      <td>0</td>\n",
       "      <td>0</td>\n",
       "      <td>6.37025</td>\n",
       "      <td>0</td>\n",
       "      <td>0</td>\n",
       "      <td>0</td>\n",
       "      <td>0</td>\n",
       "    </tr>\n",
       "  </tbody>\n",
       "</table>\n",
       "</div>"
      ],
      "text/plain": [
       "  TAF1L_0 RNU6-69_1    ROCK1_2 SNORD115-42_3 OR8B2_4     LYN_5 SNORD115-43_6  \\\n",
       "0       0         0    40.0059             0       0   4.95385             0   \n",
       "1       0         0          0             0       0         0             0   \n",
       "2       0         0    70.5803             0       0   2.86212             0   \n",
       "3       0         0    24.1233             0       0    144.22             0   \n",
       "4       0         0     2.9105             0       0  0.665994             0   \n",
       "5       0         0  0.0638631             0       0         0             0   \n",
       "6       0         0     29.135             0       0         0             0   \n",
       "7       0         0    80.7414             0       0         0             0   \n",
       "8       0         0    22.4341             0       0   1.01223             0   \n",
       "9       0         0    11.2208             0       0   6.37025             0   \n",
       "\n",
       "  OR8B3_7 OR2AT4_8 KCTD14_9  \n",
       "0       0        0        0  \n",
       "1       0        0        0  \n",
       "2       0        0        0  \n",
       "3       0        0        0  \n",
       "4       0        0        0  \n",
       "5       0        0        0  \n",
       "6       0        0        0  \n",
       "7       0        0        0  \n",
       "8       0        0        0  \n",
       "9       0        0        0  "
      ]
     },
     "execution_count": 87,
     "metadata": {},
     "output_type": "execute_result"
    }
   ],
   "source": [
    "df = df.iloc[:, 1:].T\n",
    "df.columns = df.iloc[0]\n",
    "df = df.reindex(df.index.drop('gene'))\n",
    "df.reset_index(inplace=True)\n",
    "df.drop('index', axis=1, inplace=True)\n",
    "df.columns = ['_'.join([col, str(i)]) for i, col in enumerate(df.columns)]\n",
    "df.iloc[:10,:10]"
   ]
  },
  {
   "cell_type": "code",
   "execution_count": 45,
   "metadata": {},
   "outputs": [
    {
     "data": {
      "text/plain": [
       "(0, 25000)"
      ]
     },
     "execution_count": 45,
     "metadata": {},
     "output_type": "execute_result"
    },
    {
     "data": {
      "image/png": "[encoded data removed]",
      "text/plain": [
       "<matplotlib.figure.Figure at 0x110b9d390>"
      ]
     },
     "metadata": {},
     "output_type": "display_data"
    }
   ],
   "source": [
    "plt.figure(figsize=(20, 10))\n",
    "# bins = np.linspace(0, .25, 20)\n",
    "plt.hist(df.values.ravel(), bins=20);\n",
    "# plt.xlim(0, 20)\n",
    "plt.ylim(0, 25000)\n"
   ]
  },
  {
   "cell_type": "markdown",
   "metadata": {},
   "source": [
    "# Preprocessing with $log_2$"
   ]
  },
  {
   "cell_type": "code",
   "execution_count": 88,
   "metadata": {},
   "outputs": [
    {
     "name": "stdout",
     "output_type": "stream",
     "text": [
      "CPU times: user 9.24 s, sys: 257 ms, total: 9.49 s\n",
      "Wall time: 9.48 s\n"
     ]
    }
   ],
   "source": [
    "%time df = pre_log2(df)\n",
    "           "
   ]
  },
  {
   "cell_type": "code",
   "execution_count": 89,
   "metadata": {},
   "outputs": [
    {
     "name": "stderr",
     "output_type": "stream",
     "text": [
      "23737it [00:00, 78691.89it/s]         \n"
     ]
    },
    {
     "name": "stdout",
     "output_type": "stream",
     "text": [
      "# removed columns =  10773\n"
     ]
    },
    {
     "data": {
      "text/plain": [
       "(0, 20000)"
      ]
     },
     "execution_count": 89,
     "metadata": {},
     "output_type": "execute_result"
    },
    {
     "data": {
      "image/png": "[encoded data removed]",
      "text/plain": [
       "<matplotlib.figure.Figure at 0x1070f3e10>"
      ]
     },
     "metadata": {},
     "output_type": "display_data"
    }
   ],
   "source": [
    "df = remove_zero_genes(mode='zero')\n",
    "col_names = df.columns\n",
    "plt.figure(figsize=(20, 10))\n",
    "plt.hist(df.values.ravel(), bins=20);\n",
    "plt.ylim(0, 20000)\n"
   ]
  },
  {
   "cell_type": "code",
   "execution_count": 90,
   "metadata": {},
   "outputs": [
    {
     "data": {
      "text/plain": [
       "(96, 12964)"
      ]
     },
     "execution_count": 90,
     "metadata": {},
     "output_type": "execute_result"
    }
   ],
   "source": [
    "df.shape"
   ]
  },
  {
   "cell_type": "code",
   "execution_count": 91,
   "metadata": {},
   "outputs": [
    {
     "name": "stdout",
     "output_type": "stream",
     "text": [
      "CPU times: user 3.56 s, sys: 377 ms, total: 3.94 s\n",
      "Wall time: 3.39 s\n"
     ]
    }
   ],
   "source": [
    "%%time\n",
    "cor = np.corrcoef(df.values.astype(dtype='float').T)"
   ]
  },
  {
   "cell_type": "code",
   "execution_count": 92,
   "metadata": {},
   "outputs": [
    {
     "data": {
      "text/plain": [
       "(12964, 12964)"
      ]
     },
     "execution_count": 92,
     "metadata": {},
     "output_type": "execute_result"
    }
   ],
   "source": [
    "cor.shape"
   ]
  },
  {
   "cell_type": "code",
   "execution_count": 137,
   "metadata": {},
   "outputs": [
    {
     "name": "stderr",
     "output_type": "stream",
     "text": [
      "100%|██████████| 12964/12964 [00:36<00:00, 356.71it/s]\n"
     ]
    }
   ],
   "source": [
    "cor_genes = {}\n",
    "for i in tqdm(range(cor.shape[0])):\n",
    "    for j in range(cor.shape[0]):\n",
    "        if j >= i:\n",
    "            continue\n",
    "        if abs(cor[i,j]) > .99:\n",
    "            cor_genes['__'.join([col_names[i], col_names[j]])] = cor[i,j]\n",
    "#             print cor[i,j], col_names[i], col_names[j]"
   ]
  },
  {
   "cell_type": "code",
   "execution_count": 138,
   "metadata": {},
   "outputs": [
    {
     "data": {
      "text/plain": [
       "23953"
      ]
     },
     "execution_count": 138,
     "metadata": {},
     "output_type": "execute_result"
    }
   ],
   "source": [
    "len(cor_genes)"
   ]
  },
  {
   "cell_type": "code",
   "execution_count": 140,
   "metadata": {
    "scrolled": true
   },
   "outputs": [
    {
     "name": "stderr",
     "output_type": "stream",
     "text": [
      "100%|██████████| 12964/12964 [00:37<00:00, 342.86it/s]\n"
     ]
    }
   ],
   "source": [
    "non_cor_genes = {}\n",
    "for i in tqdm(range(cor.shape[0])):\n",
    "    for j in range(cor.shape[0]):\n",
    "        if j >= i:\n",
    "            continue\n",
    "        if abs(cor[i,j]) < .001:\n",
    "            non_cor_genes['__'.join([col_names[i], col_names[j]])] = cor[i,j]\n"
   ]
  },
  {
   "cell_type": "code",
   "execution_count": 141,
   "metadata": {},
   "outputs": [
    {
     "data": {
      "text/plain": [
       "34.5231"
      ]
     },
     "execution_count": 141,
     "metadata": {},
     "output_type": "execute_result"
    }
   ],
   "source": [
    "len(non_cor_genes) / 10. ** 4"
   ]
  },
  {
   "cell_type": "code",
   "execution_count": 98,
   "metadata": {
    "collapsed": true
   },
   "outputs": [],
   "source": [
    "nbins = 12"
   ]
  },
  {
   "cell_type": "code",
   "execution_count": 142,
   "metadata": {},
   "outputs": [
    {
     "name": "stdout",
     "output_type": "stream",
     "text": [
      "0.101354666271 0.0827982450041\n"
     ]
    }
   ],
   "source": [
    "mi_no_corr = []\n",
    "for i, key in enumerate(non_cor_genes):\n",
    "    gen1, gen2 = key.split('__')\n",
    "#     print gen1, gen2\n",
    "    val = calc_MI(df[gen1].values.astype(dtype='float'),\n",
    "                  df[gen2].values.astype(dtype='float'),\n",
    "                                             bins=nbins)\n",
    "    mi_no_corr.append(val)\n",
    "#     print gen1, gen2, val\n",
    "    \n",
    "    if i > 5000:\n",
    "        break\n",
    "# print mi\n",
    "print np.mean(mi_no_corr), np.std(mi_no_corr)   "
   ]
  },
  {
   "cell_type": "code",
   "execution_count": 143,
   "metadata": {},
   "outputs": [
    {
     "name": "stdout",
     "output_type": "stream",
     "text": [
      "0.0580468805792 0.00288444841184\n"
     ]
    }
   ],
   "source": [
    "mi_corr = {}\n",
    "for i, key in enumerate(cor_genes):\n",
    "    gen1, gen2 = key.split('__')\n",
    "    val = calc_MI(df[gen1].values.astype(dtype='float'),\n",
    "                  df[gen2].values.astype(dtype='float'),\n",
    "                                            bins=nbins)\n",
    "    mi_corr['__'.join([gen1, gen2])] = val\n",
    "\n",
    "print np.mean(mi_corr.values()), np.std(mi_corr.values())\n"
   ]
  },
  {
   "cell_type": "code",
   "execution_count": 148,
   "metadata": {},
   "outputs": [
    {
     "data": {
      "text/plain": [
       "<matplotlib.legend.Legend at 0x10de32590>"
      ]
     },
     "execution_count": 148,
     "metadata": {},
     "output_type": "execute_result"
    },
    {
     "data": {
      "image/png": "[encoded data removed]",
      "text/plain": [
       "<matplotlib.figure.Figure at 0x10de49050>"
      ]
     },
     "metadata": {},
     "output_type": "display_data"
    }
   ],
   "source": [
    "plt.figure(figsize=(15, 6))\n",
    "# plt.subplot(1,2,1)\n",
    "plt.hist(mi_no_corr, bins= 100, label='low corr');\n",
    "plt.title('Mutual Information (MI)', fontsize=18)\n",
    "# plt.subplot(1,2,2)\n",
    "plt.hist(mi_corr.values(), bins=100, label='high corr');\n",
    "plt.xlim(0,.6)\n",
    "plt.ylim(0,2 * 10 **3)\n",
    "plt.legend(fontsize=16)"
   ]
  },
  {
   "cell_type": "code",
   "execution_count": 101,
   "metadata": {},
   "outputs": [
    {
     "data": {
      "text/plain": [
       "(0.99999290097138094, 1.1719553056952381e-229)"
      ]
     },
     "execution_count": 101,
     "metadata": {},
     "output_type": "execute_result"
    }
   ],
   "source": [
    "pearsonr(df['C14orf182_14784'].values, df['SCAMP4_1724'].values)\n"
   ]
  },
  {
   "cell_type": "code",
   "execution_count": 147,
   "metadata": {},
   "outputs": [
    {
     "name": "stdout",
     "output_type": "stream",
     "text": [
      "0 0\n",
      "0 0.0215222755888\n",
      "0 0\n",
      "0 0\n",
      "0 0\n",
      "0 0\n",
      "0 0\n",
      "0 0\n",
      "0 0\n",
      "0 0\n",
      "0 0\n",
      "0 0\n",
      "0 0\n",
      "0 0\n",
      "0 0\n",
      "0 0\n",
      "5.83138113446 5.71168935272\n",
      "0 0\n",
      "0 0\n",
      "0 0\n",
      "0 0\n",
      "0 0\n",
      "0 0\n",
      "0 0\n",
      "0 0\n",
      "0 0\n",
      "0 0\n",
      "0 0\n",
      "0 0\n",
      "0 0\n",
      "0 0\n",
      "0 0\n",
      "0 0\n",
      "0 0\n",
      "0 0\n",
      "0 0\n",
      "0 0\n",
      "0 0\n",
      "0 0\n",
      "0 0\n",
      "0 0\n",
      "0 0\n",
      "0 0\n",
      "0 0\n",
      "0 0\n",
      "0 0\n",
      "0 0\n",
      "0 0\n",
      "0 0\n",
      "0 0\n",
      "0 0\n",
      "0 0\n",
      "0 0\n",
      "0 0\n",
      "0 0\n",
      "0 0\n",
      "0 0\n",
      "0 0\n",
      "0 0\n",
      "0 0\n",
      "0 0\n",
      "0 0\n",
      "0 0\n",
      "0 0\n",
      "0 0\n",
      "0 0\n",
      "0 0\n",
      "0 0\n",
      "0 0\n",
      "0 0\n",
      "0 0\n",
      "0 0\n",
      "0 0\n",
      "0 0\n",
      "0 0\n",
      "0 0\n",
      "0 0\n",
      "0 0\n",
      "0 0\n",
      "0 0\n",
      "0 0\n",
      "0 0\n",
      "0 0\n",
      "0 0\n",
      "0 0\n",
      "0 0\n",
      "0 0\n",
      "0 0\n",
      "0 0\n",
      "0 0\n",
      "0 0\n",
      "0 0\n",
      "0 0\n",
      "0 0\n",
      "0 0\n",
      "0 0\n"
     ]
    }
   ],
   "source": [
    "for i, j in zip(df['C14orf182_14784'].values, df['SCAMP4_1724'].values):\n",
    "    print i, j"
   ]
  },
  {
   "cell_type": "code",
   "execution_count": null,
   "metadata": {
    "collapsed": true
   },
   "outputs": [],
   "source": []
  }
 ],
 "metadata": {
  "kernelspec": {
   "display_name": "Python 2",
   "language": "python",
   "name": "python2"
  },
  "language_info": {
   "codemirror_mode": {
    "name": "ipython",
    "version": 2
   },
   "file_extension": ".py",
   "mimetype": "text/x-python",
   "name": "python",
   "nbconvert_exporter": "python",
   "pygments_lexer": "ipython2",
   "version": "2.7.10"
  }
 },
 "nbformat": 4,
 "nbformat_minor": 1
}
